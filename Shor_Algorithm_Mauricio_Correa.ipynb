{
  "cells": [
    {
      "cell_type": "markdown",
      "metadata": {
        "id": "KzrGrUVOwi4b"
      },
      "source": [
        "# Shor's Algorithm\n",
        "\n",
        "Mauricio David Correa Hernández"
      ]
    },
    {
      "cell_type": "markdown",
      "metadata": {
        "id": "OPG8qr7BwrPf"
      },
      "source": [
        "Shor’s algorithm is famous for factoring integers in polynomial time. Since the best-known classical algorithm requires greater-than-polynomial time to factor the product of two primes, the widely used cryptographic protocol, RSA, relies on factoring being impossible for large enough integers.\n",
        "\n",
        "In this chapter we will focus on the quantum part of Shor’s algorithm, which actually solves the problem of _period finding_. Since a factoring problem can be turned into a period finding problem in polynomial time, an efficient period finding algorithm can be used to factor integers efficiently too. For now its enough to show that if we can compute the period of $a^x\\bmod N$ efficiently, then we can also efficiently factor. Since period finding is a worthy problem in its own right, we will first solve this, then discuss how this can be used to factor in section 5."
      ]
    },
    {
      "cell_type": "markdown",
      "metadata": {
        "id": "x04xFeEuwti3"
      },
      "source": [
        "## 1. The Problem: Period Finding"
      ]
    },
    {
      "cell_type": "markdown",
      "metadata": {
        "id": "na66f2_j1XHH"
      },
      "source": [
        "\n",
        "Let’s look at the periodic function:\n",
        "\n",
        "$$ f(x) = a^x \\bmod{N}$$\n",
        "\n",
        "The modulo operation (abbreviated to 'mod') simply means to find the remainder when dividing one number by another. For example:\n",
        "\n",
        "$$ 17 \\bmod 5 = 2 $$\n",
        "\n",
        "Since $17 \\div 5 = 3$ with remainder $2$. (i.e. $17 = (3\\times 5) + 2$). In Python, the modulo operation is denoted through the <code>%</code> symbol.\n",
        "\n",
        "This behaviour is used in <a href=\"https://en.wikipedia.org/wiki/Modular_arithmetic\">modular arithmetic</a>, where numbers 'wrap round' after reaching a certain value (the modulus). Using modular arithmetic, we could write:\n",
        "\n",
        "$$ 17 = 2 \\pmod 5$$\n",
        "\n",
        "Note that here the $\\pmod 5$ applies to the entire equation (since it's in parenthesis), unlike the equation above where it only applied to the left-hand side of the equation.\n",
        "</details>\n",
        "\n",
        "where $a$ and $N$ are positive integers, $a$ is less than $N$, and they have no common factors. The period, or order ($r$), is the smallest (non-zero) integer such that:\n",
        "\n",
        "$$a^r \\bmod N = 1 $$\n",
        "\n",
        "We can see an example of this function plotted on the graph below. Note that the lines between points are to help see the periodicity and do not represent the intermediate values between the x-markers."
      ]
    },
    {
      "cell_type": "markdown",
      "metadata": {
        "id": "MMYQ9qDLw-05"
      },
      "source": [
        "## 2. The Solution\n"
      ]
    },
    {
      "cell_type": "markdown",
      "metadata": {
        "id": "NHUlRxsZxFwu"
      },
      "source": [
        "\n",
        "Shor’s solution was to use [quantum phase estimation](./quantum-phase-estimation.html) on the unitary operator:\n",
        "\n",
        "$$ U|y\\rangle \\equiv |ay \\bmod N \\rangle $$\n",
        "\n",
        "To see how this is helpful, let’s work out what an eigenstate of U might look like. If we started in the state $|1\\rangle$, we can see that each successive application of U will multiply the state of our register by $a \\pmod N$, and after $r$ applications we will arrive at the state $|1\\rangle$ again. For example with $a = 3$ and $N = 35$:\n",
        "\n",
        "$$\\begin{aligned}\n",
        "U|1\\rangle &= |3\\rangle & \\\\\n",
        "U^2|1\\rangle &= |9\\rangle \\\\\n",
        "U^3|1\\rangle &= |27\\rangle \\\\\n",
        "& \\vdots \\\\\n",
        "U^{(r-1)}|1\\rangle &= |12\\rangle \\\\\n",
        "U^r|1\\rangle &= |1\\rangle\n",
        "\\end{aligned}$$\n",
        "\n",
        "So a superposition of the states in this cycle ($|u_0\\rangle$) would be an eigenstate of $U$:\n",
        "\n",
        "$$|u_0\\rangle = \\tfrac{1}{\\sqrt{r}}\\sum_{k=0}^{r-1}{|a^k \\bmod N\\rangle} $$\n",
        "\n",
        "$$\\begin{aligned}\n",
        "|u_0\\rangle &= \\tfrac{1}{\\sqrt{12}}(|1\\rangle + |3\\rangle + |9\\rangle \\dots + |4\\rangle + |12\\rangle) \\\\[10pt]\n",
        "U|u_0\\rangle &= \\tfrac{1}{\\sqrt{12}}(U|1\\rangle + U|3\\rangle + U|9\\rangle \\dots + U|4\\rangle + U|12\\rangle) \\\\[10pt]\n",
        " &= \\tfrac{1}{\\sqrt{12}}(|3\\rangle + |9\\rangle + |27\\rangle \\dots + |12\\rangle + |1\\rangle) \\\\[10pt]\n",
        " &= |u_0\\rangle\n",
        "\\end{aligned}$$\n",
        "\n",
        "This eigenstate has an eigenvalue of 1, which isn’t very interesting. A more interesting eigenstate could be one in which the phase is different for each of these computational basis states. Specifically, let’s look at the case in which the phase of the $k^\\text{th}$ state is proportional to $k$:\n",
        "\n",
        "$$\\begin{aligned}\n",
        "|u_1\\rangle &= \\tfrac{1}{\\sqrt{r}}\\sum_{k=0}^{r-1}{e^{-\\tfrac{2\\pi i k}{r}}|a^k \\bmod N\\rangle}\\\\[10pt]\n",
        "U|u_1\\rangle &= e^{\\tfrac{2\\pi i}{r}}|u_1\\rangle\n",
        "\\end{aligned}\n",
        "$$\n",
        "\n",
        "$$\\begin{aligned}\n",
        "|u_1\\rangle &= \\tfrac{1}{\\sqrt{12}}(|1\\rangle + e^{-\\tfrac{2\\pi i}{12}}|3\\rangle + e^{-\\tfrac{4\\pi i}{12}}|9\\rangle \\dots + e^{-\\tfrac{20\\pi i}{12}}|4\\rangle + e^{-\\tfrac{22\\pi i}{12}}|12\\rangle) \\\\[10pt]\n",
        "U|u_1\\rangle &= \\tfrac{1}{\\sqrt{12}}(|3\\rangle + e^{-\\tfrac{2\\pi i}{12}}|9\\rangle + e^{-\\tfrac{4\\pi i}{12}}|27\\rangle \\dots + e^{-\\tfrac{20\\pi i}{12}}|12\\rangle + e^{-\\tfrac{22\\pi i}{12}}|1\\rangle) \\\\[10pt]\n",
        "U|u_1\\rangle &= e^{\\tfrac{2\\pi i}{12}}\\cdot\\tfrac{1}{\\sqrt{12}}(e^{\\tfrac{-2\\pi i}{12}}|3\\rangle + e^{-\\tfrac{4\\pi i}{12}}|9\\rangle + e^{-\\tfrac{6\\pi i}{12}}|27\\rangle \\dots + e^{-\\tfrac{22\\pi i}{12}}|12\\rangle + e^{-\\tfrac{24\\pi i}{12}}|1\\rangle) \\\\[10pt]\n",
        "U|u_1\\rangle &= e^{\\tfrac{2\\pi i}{12}}|u_1\\rangle\n",
        "\\end{aligned}$$\n",
        "\n",
        "(We can see $r = 12$ appears in the denominator of the phase.)\n",
        "\n",
        "This is a particularly interesting eigenvalue as it contains $r$. In fact, $r$ has to be included to make sure the phase differences between the $r$ computational basis states are equal. This is not the only eigenstate with this behaviour; to generalise this further, we can multiply an integer, $s$, to this phase difference, which will show up in our eigenvalue:\n",
        "\n",
        "$$\\begin{aligned}\n",
        "|u_s\\rangle &= \\tfrac{1}{\\sqrt{r}}\\sum_{k=0}^{r-1}{e^{-\\tfrac{2\\pi i s k}{r}}|a^k \\bmod N\\rangle}\\\\[10pt]\n",
        "U|u_s\\rangle &= e^{\\tfrac{2\\pi i s}{r}}|u_s\\rangle\n",
        "\\end{aligned}\n",
        "$$\n",
        "\n",
        "$$\\begin{aligned}\n",
        "|u_s\\rangle &= \\tfrac{1}{\\sqrt{12}}(|1\\rangle + e^{-\\tfrac{2\\pi i s}{12}}|3\\rangle + e^{-\\tfrac{4\\pi i s}{12}}|9\\rangle \\dots + e^{-\\tfrac{20\\pi i s}{12}}|4\\rangle + e^{-\\tfrac{22\\pi i s}{12}}|12\\rangle) \\\\[10pt]\n",
        "U|u_s\\rangle &= \\tfrac{1}{\\sqrt{12}}(|3\\rangle + e^{-\\tfrac{2\\pi i s}{12}}|9\\rangle + e^{-\\tfrac{4\\pi i s}{12}}|27\\rangle \\dots + e^{-\\tfrac{20\\pi i s}{12}}|12\\rangle + e^{-\\tfrac{22\\pi i s}{12}}|1\\rangle) \\\\[10pt]\n",
        "U|u_s\\rangle &= e^{\\tfrac{2\\pi i s}{12}}\\cdot\\tfrac{1}{\\sqrt{12}}(e^{-\\tfrac{2\\pi i s}{12}}|3\\rangle + e^{-\\tfrac{4\\pi i s}{12}}|9\\rangle + e^{-\\tfrac{6\\pi i s}{12}}|27\\rangle \\dots + e^{-\\tfrac{22\\pi i s}{12}}|12\\rangle + e^{-\\tfrac{24\\pi i s}{12}}|1\\rangle) \\\\[10pt]\n",
        "U|u_s\\rangle &= e^{\\tfrac{2\\pi i s}{12}}|u_s\\rangle\n",
        "\\end{aligned}$$\n",
        "\n",
        "We now have a unique eigenstate for each integer value of $s$ where $0 \\leq s \\leq r-1.$ Very conveniently, if we sum up all these eigenstates, the different phases cancel out all computational basis states except $|1\\rangle$:\n",
        "\n",
        "$$ \\tfrac{1}{\\sqrt{r}}\\sum_{s=0}^{r-1} |u_s\\rangle = |1\\rangle$$\n",
        "\n",
        "For this, we will look at a smaller example where $a = 7$ and $N=15$. In this case $r=4$:\n",
        "\n",
        "$$\\begin{aligned}\n",
        "\\tfrac{1}{2}(\\quad|u_0\\rangle &= \\tfrac{1}{2}(|1\\rangle \\hphantom{e^{-\\tfrac{2\\pi i}{12}}}+ |7\\rangle \\hphantom{e^{-\\tfrac{12\\pi i}{12}}} + |4\\rangle \\hphantom{e^{-\\tfrac{12\\pi i}{12}}} + |13\\rangle)\\dots \\\\[10pt]\n",
        "+ |u_1\\rangle &= \\tfrac{1}{2}(|1\\rangle + e^{-\\tfrac{2\\pi i}{4}}|7\\rangle + e^{-\\tfrac{\\hphantom{1}4\\pi i}{4}}|4\\rangle + e^{-\\tfrac{\\hphantom{1}6\\pi i}{4}}|13\\rangle)\\dots \\\\[10pt]\n",
        "+ |u_2\\rangle &= \\tfrac{1}{2}(|1\\rangle + e^{-\\tfrac{4\\pi i}{4}}|7\\rangle + e^{-\\tfrac{\\hphantom{1}8\\pi i}{4}}|4\\rangle + e^{-\\tfrac{12\\pi i}{4}}|13\\rangle)\\dots \\\\[10pt]\n",
        "+ |u_3\\rangle &= \\tfrac{1}{2}(|1\\rangle + e^{-\\tfrac{6\\pi i}{4}}|7\\rangle + e^{-\\tfrac{12\\pi i}{4}}|4\\rangle + e^{-\\tfrac{18\\pi i}{4}}|13\\rangle)\\quad) = |1\\rangle \\\\[10pt]\n",
        "\\end{aligned}$$\n",
        "\n",
        "Since the computational basis state $|1\\rangle$ is a superposition of these eigenstates, which means if we do QPE on $U$ using the state $|1\\rangle$, we will measure a phase:\n",
        "\n",
        "$$\\phi = \\frac{s}{r}$$\n",
        "\n",
        "Where $s$ is a random integer between $0$ and $r-1$. We finally use the [continued fractions](https://en.wikipedia.org/wiki/Continued_fraction) algorithm on $\\phi$ to find $r$. The circuit diagram looks like this (note that this diagram uses Qiskit's qubit ordering convention):\n",
        "\n",
        "We will next demonstrate Shor’s algorithm using Qiskit’s simulators. For this demonstration we will provide the circuits for $U$ without explanation, but in section 4 we will discuss how circuits for $U^{2^j}$ can be constructed efficiently."
      ]
    },
    {
      "cell_type": "markdown",
      "metadata": {
        "id": "gVb9B4YPxFmk"
      },
      "source": [
        "## 3. Qiskit Implementation\n"
      ]
    },
    {
      "cell_type": "markdown",
      "metadata": {
        "id": "gyl_2H3g1dMN"
      },
      "source": [
        "\n",
        "In this example we will solve the period finding problem for $a=7$ and $N=15$. We provide the circuits for $U$ where:\n",
        "\n",
        "$$U|y\\rangle = |ay\\bmod 15\\rangle $$\n",
        "\n",
        "without explanation. To create $U^x$, we will simply repeat the circuit $x$ times. In the next section we will discuss a general method for creating these circuits efficiently. The function `c_amod15` returns the controlled-U gate for `a`, repeated `power` times."
      ]
    },
    {
      "cell_type": "markdown",
      "metadata": {
        "id": "Ph9mKCRgxFFh"
      },
      "source": [
        "### Installations"
      ]
    },
    {
      "cell_type": "code",
      "execution_count": 2,
      "metadata": {
        "colab": {
          "base_uri": "https://localhost:8080/"
        },
        "id": "Re70-bCW8UMg",
        "outputId": "3bb696ac-4916-49ad-fa5a-90493a6b6671"
      },
      "outputs": [
        {
          "name": "stdout",
          "output_type": "stream",
          "text": [
            "Requirement already satisfied: pyyaml in /usr/local/lib/python3.11/dist-packages (6.0.2)\n",
            "Requirement already satisfied: packaging in /usr/local/lib/python3.11/dist-packages (24.2)\n",
            "Requirement already satisfied: requests in /usr/local/lib/python3.11/dist-packages (2.32.3)\n",
            "Requirement already satisfied: pillow in /usr/local/lib/python3.11/dist-packages (11.2.1)\n",
            "Requirement already satisfied: markupsafe in /usr/local/lib/python3.11/dist-packages (3.0.2)\n",
            "Requirement already satisfied: beautifulsoup4 in /usr/local/lib/python3.11/dist-packages (4.13.4)\n",
            "Requirement already satisfied: babel in /usr/local/lib/python3.11/dist-packages (2.17.0)\n",
            "Requirement already satisfied: catkin-pkg in /usr/local/lib/python3.11/dist-packages (1.0.0)\n",
            "Requirement already satisfied: colcon-core in /usr/local/lib/python3.11/dist-packages (0.19.0)\n",
            "Requirement already satisfied: colcon-python-setup-py in /usr/local/lib/python3.11/dist-packages (0.2.9)\n",
            "Requirement already satisfied: colcon-ros in /usr/local/lib/python3.11/dist-packages (0.5.0)\n",
            "Requirement already satisfied: colcon-common-extensions in /usr/local/lib/python3.11/dist-packages (0.3.0)\n",
            "Requirement already satisfied: charset-normalizer<4,>=2 in /usr/local/lib/python3.11/dist-packages (from requests) (3.4.2)\n",
            "Requirement already satisfied: idna<4,>=2.5 in /usr/local/lib/python3.11/dist-packages (from requests) (3.10)\n",
            "Requirement already satisfied: urllib3<3,>=1.21.1 in /usr/local/lib/python3.11/dist-packages (from requests) (2.4.0)\n",
            "Requirement already satisfied: certifi>=2017.4.17 in /usr/local/lib/python3.11/dist-packages (from requests) (2025.4.26)\n",
            "Requirement already satisfied: soupsieve>1.2 in /usr/local/lib/python3.11/dist-packages (from beautifulsoup4) (2.7)\n",
            "Requirement already satisfied: typing-extensions>=4.0.0 in /usr/local/lib/python3.11/dist-packages (from beautifulsoup4) (4.13.2)\n",
            "Requirement already satisfied: docutils in /usr/local/lib/python3.11/dist-packages (from catkin-pkg) (0.21.2)\n",
            "Requirement already satisfied: python-dateutil in /usr/local/lib/python3.11/dist-packages (from catkin-pkg) (2.9.0.post0)\n",
            "Requirement already satisfied: pyparsing in /usr/local/lib/python3.11/dist-packages (from catkin-pkg) (3.2.3)\n",
            "Requirement already satisfied: setuptools in /usr/local/lib/python3.11/dist-packages (from catkin-pkg) (75.2.0)\n",
            "Requirement already satisfied: distlib in /usr/local/lib/python3.11/dist-packages (from colcon-core) (0.3.9)\n",
            "Requirement already satisfied: EmPy in /usr/local/lib/python3.11/dist-packages (from colcon-core) (4.2)\n",
            "Requirement already satisfied: pytest in /usr/local/lib/python3.11/dist-packages (from colcon-core) (8.3.5)\n",
            "Requirement already satisfied: pytest-cov in /usr/local/lib/python3.11/dist-packages (from colcon-core) (6.1.1)\n",
            "Requirement already satisfied: pytest-repeat in /usr/local/lib/python3.11/dist-packages (from colcon-core) (0.9.4)\n",
            "Requirement already satisfied: pytest-rerunfailures in /usr/local/lib/python3.11/dist-packages (from colcon-core) (15.1)\n",
            "Requirement already satisfied: colcon-cmake>=0.2.6 in /usr/local/lib/python3.11/dist-packages (from colcon-ros) (0.2.29)\n",
            "Requirement already satisfied: colcon-pkg-config in /usr/local/lib/python3.11/dist-packages (from colcon-ros) (0.1.0)\n",
            "Requirement already satisfied: colcon-recursive-crawl in /usr/local/lib/python3.11/dist-packages (from colcon-ros) (0.2.3)\n",
            "Requirement already satisfied: colcon-defaults in /usr/local/lib/python3.11/dist-packages (from colcon-common-extensions) (0.2.9)\n",
            "Requirement already satisfied: colcon-devtools in /usr/local/lib/python3.11/dist-packages (from colcon-common-extensions) (0.3.0)\n",
            "Requirement already satisfied: colcon-library-path in /usr/local/lib/python3.11/dist-packages (from colcon-common-extensions) (0.2.1)\n",
            "Requirement already satisfied: colcon-metadata in /usr/local/lib/python3.11/dist-packages (from colcon-common-extensions) (0.2.5)\n",
            "Requirement already satisfied: colcon-notification in /usr/local/lib/python3.11/dist-packages (from colcon-common-extensions) (0.3.0)\n",
            "Requirement already satisfied: colcon-output in /usr/local/lib/python3.11/dist-packages (from colcon-common-extensions) (0.2.13)\n",
            "Requirement already satisfied: colcon-package-information in /usr/local/lib/python3.11/dist-packages (from colcon-common-extensions) (0.4.0)\n",
            "Requirement already satisfied: colcon-package-selection in /usr/local/lib/python3.11/dist-packages (from colcon-common-extensions) (0.2.10)\n",
            "Requirement already satisfied: colcon-parallel-executor in /usr/local/lib/python3.11/dist-packages (from colcon-common-extensions) (0.3.0)\n",
            "Requirement already satisfied: colcon-powershell in /usr/local/lib/python3.11/dist-packages (from colcon-common-extensions) (0.4.0)\n",
            "Requirement already satisfied: colcon-test-result in /usr/local/lib/python3.11/dist-packages (from colcon-common-extensions) (0.3.8)\n",
            "Requirement already satisfied: colcon-argcomplete in /usr/local/lib/python3.11/dist-packages (from colcon-common-extensions) (0.3.3)\n",
            "Requirement already satisfied: colcon-bash in /usr/local/lib/python3.11/dist-packages (from colcon-common-extensions) (0.5.0)\n",
            "Requirement already satisfied: colcon-cd in /usr/local/lib/python3.11/dist-packages (from colcon-common-extensions) (0.1.1)\n",
            "Requirement already satisfied: colcon-zsh in /usr/local/lib/python3.11/dist-packages (from colcon-common-extensions) (0.5.0)\n",
            "Requirement already satisfied: argcomplete in /usr/local/lib/python3.11/dist-packages (from colcon-argcomplete->colcon-common-extensions) (3.6.2)\n",
            "Requirement already satisfied: notify2 in /usr/local/lib/python3.11/dist-packages (from colcon-notification->colcon-common-extensions) (0.3.1)\n",
            "Requirement already satisfied: iniconfig in /usr/local/lib/python3.11/dist-packages (from pytest->colcon-core) (2.1.0)\n",
            "Requirement already satisfied: pluggy<2,>=1.5 in /usr/local/lib/python3.11/dist-packages (from pytest->colcon-core) (1.6.0)\n",
            "Requirement already satisfied: coverage>=7.5 in /usr/local/lib/python3.11/dist-packages (from coverage[toml]>=7.5->pytest-cov->colcon-core) (7.8.2)\n",
            "Requirement already satisfied: six>=1.5 in /usr/local/lib/python3.11/dist-packages (from python-dateutil->catkin-pkg) (1.17.0)\n",
            "Requirement already satisfied: qiskit in /usr/local/lib/python3.11/dist-packages (2.0.2)\n",
            "Requirement already satisfied: rustworkx>=0.15.0 in /usr/local/lib/python3.11/dist-packages (from qiskit) (0.16.0)\n",
            "Requirement already satisfied: numpy<3,>=1.17 in /usr/local/lib/python3.11/dist-packages (from qiskit) (2.0.2)\n",
            "Requirement already satisfied: scipy>=1.5 in /usr/local/lib/python3.11/dist-packages (from qiskit) (1.15.3)\n",
            "Requirement already satisfied: sympy>=1.3 in /usr/local/lib/python3.11/dist-packages (from qiskit) (1.13.1)\n",
            "Requirement already satisfied: dill>=0.3 in /usr/local/lib/python3.11/dist-packages (from qiskit) (0.3.7)\n",
            "Requirement already satisfied: python-dateutil>=2.8.0 in /usr/local/lib/python3.11/dist-packages (from qiskit) (2.9.0.post0)\n",
            "Requirement already satisfied: stevedore>=3.0.0 in /usr/local/lib/python3.11/dist-packages (from qiskit) (5.4.1)\n",
            "Requirement already satisfied: typing-extensions in /usr/local/lib/python3.11/dist-packages (from qiskit) (4.13.2)\n",
            "Requirement already satisfied: symengine<0.14,>=0.11 in /usr/local/lib/python3.11/dist-packages (from qiskit) (0.13.0)\n",
            "Requirement already satisfied: six>=1.5 in /usr/local/lib/python3.11/dist-packages (from python-dateutil>=2.8.0->qiskit) (1.17.0)\n",
            "Requirement already satisfied: pbr>=2.0.0 in /usr/local/lib/python3.11/dist-packages (from stevedore>=3.0.0->qiskit) (6.1.1)\n",
            "Requirement already satisfied: mpmath<1.4,>=1.1.0 in /usr/local/lib/python3.11/dist-packages (from sympy>=1.3->qiskit) (1.3.0)\n",
            "Requirement already satisfied: setuptools in /usr/local/lib/python3.11/dist-packages (from pbr>=2.0.0->stevedore>=3.0.0->qiskit) (75.2.0)\n",
            "Requirement already satisfied: qiskit[visualization] in /usr/local/lib/python3.11/dist-packages (2.0.2)\n",
            "Requirement already satisfied: rustworkx>=0.15.0 in /usr/local/lib/python3.11/dist-packages (from qiskit[visualization]) (0.16.0)\n",
            "Requirement already satisfied: numpy<3,>=1.17 in /usr/local/lib/python3.11/dist-packages (from qiskit[visualization]) (2.0.2)\n",
            "Requirement already satisfied: scipy>=1.5 in /usr/local/lib/python3.11/dist-packages (from qiskit[visualization]) (1.15.3)\n",
            "Requirement already satisfied: sympy>=1.3 in /usr/local/lib/python3.11/dist-packages (from qiskit[visualization]) (1.13.1)\n",
            "Requirement already satisfied: dill>=0.3 in /usr/local/lib/python3.11/dist-packages (from qiskit[visualization]) (0.3.7)\n",
            "Requirement already satisfied: python-dateutil>=2.8.0 in /usr/local/lib/python3.11/dist-packages (from qiskit[visualization]) (2.9.0.post0)\n",
            "Requirement already satisfied: stevedore>=3.0.0 in /usr/local/lib/python3.11/dist-packages (from qiskit[visualization]) (5.4.1)\n",
            "Requirement already satisfied: typing-extensions in /usr/local/lib/python3.11/dist-packages (from qiskit[visualization]) (4.13.2)\n",
            "Requirement already satisfied: symengine<0.14,>=0.11 in /usr/local/lib/python3.11/dist-packages (from qiskit[visualization]) (0.13.0)\n",
            "Requirement already satisfied: matplotlib>=3.3 in /usr/local/lib/python3.11/dist-packages (from qiskit[visualization]) (3.10.0)\n",
            "Requirement already satisfied: pydot in /usr/local/lib/python3.11/dist-packages (from qiskit[visualization]) (3.0.4)\n",
            "Requirement already satisfied: Pillow>=4.2.1 in /usr/local/lib/python3.11/dist-packages (from qiskit[visualization]) (11.2.1)\n",
            "Requirement already satisfied: pylatexenc>=1.4 in /usr/local/lib/python3.11/dist-packages (from qiskit[visualization]) (2.10)\n",
            "Requirement already satisfied: seaborn>=0.9.0 in /usr/local/lib/python3.11/dist-packages (from qiskit[visualization]) (0.13.2)\n",
            "Requirement already satisfied: contourpy>=1.0.1 in /usr/local/lib/python3.11/dist-packages (from matplotlib>=3.3->qiskit[visualization]) (1.3.2)\n",
            "Requirement already satisfied: cycler>=0.10 in /usr/local/lib/python3.11/dist-packages (from matplotlib>=3.3->qiskit[visualization]) (0.12.1)\n",
            "Requirement already satisfied: fonttools>=4.22.0 in /usr/local/lib/python3.11/dist-packages (from matplotlib>=3.3->qiskit[visualization]) (4.58.0)\n",
            "Requirement already satisfied: kiwisolver>=1.3.1 in /usr/local/lib/python3.11/dist-packages (from matplotlib>=3.3->qiskit[visualization]) (1.4.8)\n",
            "Requirement already satisfied: packaging>=20.0 in /usr/local/lib/python3.11/dist-packages (from matplotlib>=3.3->qiskit[visualization]) (24.2)\n",
            "Requirement already satisfied: pyparsing>=2.3.1 in /usr/local/lib/python3.11/dist-packages (from matplotlib>=3.3->qiskit[visualization]) (3.2.3)\n",
            "Requirement already satisfied: six>=1.5 in /usr/local/lib/python3.11/dist-packages (from python-dateutil>=2.8.0->qiskit[visualization]) (1.17.0)\n",
            "Requirement already satisfied: pandas>=1.2 in /usr/local/lib/python3.11/dist-packages (from seaborn>=0.9.0->qiskit[visualization]) (2.2.2)\n",
            "Requirement already satisfied: pbr>=2.0.0 in /usr/local/lib/python3.11/dist-packages (from stevedore>=3.0.0->qiskit[visualization]) (6.1.1)\n",
            "Requirement already satisfied: mpmath<1.4,>=1.1.0 in /usr/local/lib/python3.11/dist-packages (from sympy>=1.3->qiskit[visualization]) (1.3.0)\n",
            "Requirement already satisfied: pytz>=2020.1 in /usr/local/lib/python3.11/dist-packages (from pandas>=1.2->seaborn>=0.9.0->qiskit[visualization]) (2025.2)\n",
            "Requirement already satisfied: tzdata>=2022.7 in /usr/local/lib/python3.11/dist-packages (from pandas>=1.2->seaborn>=0.9.0->qiskit[visualization]) (2025.2)\n",
            "Requirement already satisfied: setuptools in /usr/local/lib/python3.11/dist-packages (from pbr>=2.0.0->stevedore>=3.0.0->qiskit[visualization]) (75.2.0)\n",
            "Requirement already satisfied: qiskit-ibm-runtime in /usr/local/lib/python3.11/dist-packages (0.40.0)\n",
            "Requirement already satisfied: requests>=2.19 in /usr/local/lib/python3.11/dist-packages (from qiskit-ibm-runtime) (2.32.3)\n",
            "Requirement already satisfied: requests-ntlm>=1.1.0 in /usr/local/lib/python3.11/dist-packages (from qiskit-ibm-runtime) (1.3.0)\n",
            "Requirement already satisfied: numpy>=1.13 in /usr/local/lib/python3.11/dist-packages (from qiskit-ibm-runtime) (2.0.2)\n",
            "Requirement already satisfied: urllib3>=1.21.1 in /usr/local/lib/python3.11/dist-packages (from qiskit-ibm-runtime) (2.4.0)\n",
            "Requirement already satisfied: python-dateutil>=2.8.0 in /usr/local/lib/python3.11/dist-packages (from qiskit-ibm-runtime) (2.9.0.post0)\n",
            "Requirement already satisfied: ibm-platform-services>=0.22.6 in /usr/local/lib/python3.11/dist-packages (from qiskit-ibm-runtime) (0.66.1)\n",
            "Requirement already satisfied: pydantic>=2.5.0 in /usr/local/lib/python3.11/dist-packages (from qiskit-ibm-runtime) (2.11.4)\n",
            "Requirement already satisfied: qiskit>=1.4.1 in /usr/local/lib/python3.11/dist-packages (from qiskit-ibm-runtime) (2.0.2)\n",
            "Requirement already satisfied: packaging in /usr/local/lib/python3.11/dist-packages (from qiskit-ibm-runtime) (24.2)\n",
            "Requirement already satisfied: ibm_cloud_sdk_core<4.0.0,>=3.24.1 in /usr/local/lib/python3.11/dist-packages (from ibm-platform-services>=0.22.6->qiskit-ibm-runtime) (3.24.1)\n",
            "Requirement already satisfied: annotated-types>=0.6.0 in /usr/local/lib/python3.11/dist-packages (from pydantic>=2.5.0->qiskit-ibm-runtime) (0.7.0)\n",
            "Requirement already satisfied: pydantic-core==2.33.2 in /usr/local/lib/python3.11/dist-packages (from pydantic>=2.5.0->qiskit-ibm-runtime) (2.33.2)\n",
            "Requirement already satisfied: typing-extensions>=4.12.2 in /usr/local/lib/python3.11/dist-packages (from pydantic>=2.5.0->qiskit-ibm-runtime) (4.13.2)\n",
            "Requirement already satisfied: typing-inspection>=0.4.0 in /usr/local/lib/python3.11/dist-packages (from pydantic>=2.5.0->qiskit-ibm-runtime) (0.4.1)\n",
            "Requirement already satisfied: six>=1.5 in /usr/local/lib/python3.11/dist-packages (from python-dateutil>=2.8.0->qiskit-ibm-runtime) (1.17.0)\n",
            "Requirement already satisfied: rustworkx>=0.15.0 in /usr/local/lib/python3.11/dist-packages (from qiskit>=1.4.1->qiskit-ibm-runtime) (0.16.0)\n",
            "Requirement already satisfied: scipy>=1.5 in /usr/local/lib/python3.11/dist-packages (from qiskit>=1.4.1->qiskit-ibm-runtime) (1.15.3)\n",
            "Requirement already satisfied: sympy>=1.3 in /usr/local/lib/python3.11/dist-packages (from qiskit>=1.4.1->qiskit-ibm-runtime) (1.13.1)\n",
            "Requirement already satisfied: dill>=0.3 in /usr/local/lib/python3.11/dist-packages (from qiskit>=1.4.1->qiskit-ibm-runtime) (0.3.7)\n",
            "Requirement already satisfied: stevedore>=3.0.0 in /usr/local/lib/python3.11/dist-packages (from qiskit>=1.4.1->qiskit-ibm-runtime) (5.4.1)\n",
            "Requirement already satisfied: symengine<0.14,>=0.11 in /usr/local/lib/python3.11/dist-packages (from qiskit>=1.4.1->qiskit-ibm-runtime) (0.13.0)\n",
            "Requirement already satisfied: charset-normalizer<4,>=2 in /usr/local/lib/python3.11/dist-packages (from requests>=2.19->qiskit-ibm-runtime) (3.4.2)\n",
            "Requirement already satisfied: idna<4,>=2.5 in /usr/local/lib/python3.11/dist-packages (from requests>=2.19->qiskit-ibm-runtime) (3.10)\n",
            "Requirement already satisfied: certifi>=2017.4.17 in /usr/local/lib/python3.11/dist-packages (from requests>=2.19->qiskit-ibm-runtime) (2025.4.26)\n",
            "Requirement already satisfied: cryptography>=1.3 in /usr/local/lib/python3.11/dist-packages (from requests-ntlm>=1.1.0->qiskit-ibm-runtime) (43.0.3)\n",
            "Requirement already satisfied: pyspnego>=0.4.0 in /usr/local/lib/python3.11/dist-packages (from requests-ntlm>=1.1.0->qiskit-ibm-runtime) (0.11.2)\n",
            "Requirement already satisfied: cffi>=1.12 in /usr/local/lib/python3.11/dist-packages (from cryptography>=1.3->requests-ntlm>=1.1.0->qiskit-ibm-runtime) (1.17.1)\n",
            "Requirement already satisfied: PyJWT<3.0.0,>=2.8.0 in /usr/local/lib/python3.11/dist-packages (from ibm_cloud_sdk_core<4.0.0,>=3.24.1->ibm-platform-services>=0.22.6->qiskit-ibm-runtime) (2.10.1)\n",
            "Requirement already satisfied: pbr>=2.0.0 in /usr/local/lib/python3.11/dist-packages (from stevedore>=3.0.0->qiskit>=1.4.1->qiskit-ibm-runtime) (6.1.1)\n",
            "Requirement already satisfied: mpmath<1.4,>=1.1.0 in /usr/local/lib/python3.11/dist-packages (from sympy>=1.3->qiskit>=1.4.1->qiskit-ibm-runtime) (1.3.0)\n",
            "Requirement already satisfied: pycparser in /usr/local/lib/python3.11/dist-packages (from cffi>=1.12->cryptography>=1.3->requests-ntlm>=1.1.0->qiskit-ibm-runtime) (2.22)\n",
            "Requirement already satisfied: setuptools in /usr/local/lib/python3.11/dist-packages (from pbr>=2.0.0->stevedore>=3.0.0->qiskit>=1.4.1->qiskit-ibm-runtime) (75.2.0)\n",
            "Requirement already satisfied: qiskit-aer in /usr/local/lib/python3.11/dist-packages (0.17.0)\n",
            "Requirement already satisfied: qiskit>=1.1.0 in /usr/local/lib/python3.11/dist-packages (from qiskit-aer) (2.0.2)\n",
            "Requirement already satisfied: numpy>=1.16.3 in /usr/local/lib/python3.11/dist-packages (from qiskit-aer) (2.0.2)\n",
            "Requirement already satisfied: scipy>=1.0 in /usr/local/lib/python3.11/dist-packages (from qiskit-aer) (1.15.3)\n",
            "Requirement already satisfied: psutil>=5 in /usr/local/lib/python3.11/dist-packages (from qiskit-aer) (5.9.5)\n",
            "Requirement already satisfied: rustworkx>=0.15.0 in /usr/local/lib/python3.11/dist-packages (from qiskit>=1.1.0->qiskit-aer) (0.16.0)\n",
            "Requirement already satisfied: sympy>=1.3 in /usr/local/lib/python3.11/dist-packages (from qiskit>=1.1.0->qiskit-aer) (1.13.1)\n",
            "Requirement already satisfied: dill>=0.3 in /usr/local/lib/python3.11/dist-packages (from qiskit>=1.1.0->qiskit-aer) (0.3.7)\n",
            "Requirement already satisfied: python-dateutil>=2.8.0 in /usr/local/lib/python3.11/dist-packages (from qiskit>=1.1.0->qiskit-aer) (2.9.0.post0)\n",
            "Requirement already satisfied: stevedore>=3.0.0 in /usr/local/lib/python3.11/dist-packages (from qiskit>=1.1.0->qiskit-aer) (5.4.1)\n",
            "Requirement already satisfied: typing-extensions in /usr/local/lib/python3.11/dist-packages (from qiskit>=1.1.0->qiskit-aer) (4.13.2)\n",
            "Requirement already satisfied: symengine<0.14,>=0.11 in /usr/local/lib/python3.11/dist-packages (from qiskit>=1.1.0->qiskit-aer) (0.13.0)\n",
            "Requirement already satisfied: six>=1.5 in /usr/local/lib/python3.11/dist-packages (from python-dateutil>=2.8.0->qiskit>=1.1.0->qiskit-aer) (1.17.0)\n",
            "Requirement already satisfied: pbr>=2.0.0 in /usr/local/lib/python3.11/dist-packages (from stevedore>=3.0.0->qiskit>=1.1.0->qiskit-aer) (6.1.1)\n",
            "Requirement already satisfied: mpmath<1.4,>=1.1.0 in /usr/local/lib/python3.11/dist-packages (from sympy>=1.3->qiskit>=1.1.0->qiskit-aer) (1.3.0)\n",
            "Requirement already satisfied: setuptools in /usr/local/lib/python3.11/dist-packages (from pbr>=2.0.0->stevedore>=3.0.0->qiskit>=1.1.0->qiskit-aer) (75.2.0)\n"
          ]
        }
      ],
      "source": [
        "!pip install pyyaml packaging requests pillow markupsafe beautifulsoup4 babel catkin-pkg colcon-core colcon-python-setup-py colcon-ros colcon-common-extensions\n",
        "!pip install qiskit\n",
        "!pip install qiskit[visualization]\n",
        "!pip install qiskit-ibm-runtime\n",
        "!pip install qiskit-aer"
      ]
    },
    {
      "cell_type": "markdown",
      "metadata": {
        "id": "n9ycVpgYvhFA"
      },
      "source": [
        "#### Version"
      ]
    },
    {
      "cell_type": "code",
      "execution_count": 23,
      "metadata": {
        "colab": {
          "base_uri": "https://localhost:8080/"
        },
        "id": "Np7oEDVsvMCg",
        "outputId": "d94984ab-0fa4-4079-889b-32364a024855"
      },
      "outputs": [
        {
          "name": "stdout",
          "output_type": "stream",
          "text": [
            "Name: qiskit\n",
            "Version: 2.0.2\n",
            "Summary: An open-source SDK for working with quantum computers at the level of extended quantum circuits, operators, and primitives.\n",
            "Home-page: https://www.ibm.com/quantum/qiskit\n",
            "Author: \n",
            "Author-email: Qiskit Development Team <qiskit@us.ibm.com>\n",
            "License: Apache 2.0\n",
            "Location: /usr/local/lib/python3.11/dist-packages\n",
            "Requires: dill, numpy, python-dateutil, rustworkx, scipy, stevedore, symengine, sympy, typing-extensions\n",
            "Required-by: qiskit-aer, qiskit-ibm-runtime\n"
          ]
        }
      ],
      "source": [
        "!pip show qiskit"
      ]
    },
    {
      "cell_type": "markdown",
      "metadata": {
        "id": "7nY86estyFsy"
      },
      "source": [
        "### Code Try 1 - From Qiskit TextBook - Traslated to Qiskit Version 2.0.2."
      ]
    },
    {
      "cell_type": "markdown",
      "metadata": {
        "id": "G9ReZAkkywr3"
      },
      "source": [
        "#### Imports"
      ]
    },
    {
      "cell_type": "code",
      "execution_count": null,
      "metadata": {
        "colab": {
          "base_uri": "https://localhost:8080/"
        },
        "id": "Glfq-9gl8UhH",
        "outputId": "654a8104-b4e6-4ebe-ca54-1075fab9b362"
      },
      "outputs": [
        {
          "name": "stdout",
          "output_type": "stream",
          "text": [
            "Importaciones completadas correctamente\n"
          ]
        }
      ],
      "source": [
        "# Initialization\n",
        "import numpy as np\n",
        "import pandas as pd\n",
        "import matplotlib.pyplot as plt\n",
        "from numpy.random import randint\n",
        "from math import log2, ceil, gcd\n",
        "from fractions import Fraction\n",
        "\n",
        "# importing Qiskit\n",
        "from qiskit_aer import AerSimulator\n",
        "from qiskit import transpile\n",
        "from qiskit import QuantumCircuit, ClassicalRegister, QuantumRegister\n",
        "\n",
        "# import basic plot tools and circuits\n",
        "from qiskit.visualization import plot_histogram\n",
        "from qiskit.circuit.library import QFT\n",
        "\n",
        "print('Importaciones completadas correctamente')"
      ]
    },
    {
      "cell_type": "markdown",
      "metadata": {
        "id": "ep90gt2Sylir"
      },
      "source": [
        "#### Function"
      ]
    },
    {
      "cell_type": "code",
      "execution_count": null,
      "metadata": {
        "id": "4gNr2iebLC82"
      },
      "outputs": [],
      "source": [
        "def optener_numero_de_qubits(N):\n",
        "  return ceil(log2(N))\n"
      ]
    },
    {
      "cell_type": "code",
      "execution_count": null,
      "metadata": {
        "id": "2RG6NmG3OS6q"
      },
      "outputs": [],
      "source": [
        "def c_amod15(a, power, n_qubits_mas_para_modulo, N):\n",
        "    \"\"\"Controlled multiplication by a mod 15\"\"\"\n",
        "    if a not in [2,4,7,8,11,13]:\n",
        "        raise ValueError(\"'a' must be 2,4,7,8,11 or 13\")\n",
        "    U = QuantumCircuit(n_qubits_mas_para_modulo)\n",
        "    for _iteration in range(power):\n",
        "        if a in [2,13]:\n",
        "            U.swap(2,3)\n",
        "            U.swap(1,2)\n",
        "            U.swap(0,1)\n",
        "        if a in [7,8]:\n",
        "            U.swap(0,1)\n",
        "            U.swap(1,2)\n",
        "            U.swap(2,3)\n",
        "        if a in [4, 11]:\n",
        "            U.swap(1,3)\n",
        "            U.swap(0,2)\n",
        "        if a in [7,11,13]:\n",
        "            for q in range(n_qubits_mas_para_modulo):\n",
        "                U.x(q)\n",
        "    U = U.to_gate()\n",
        "    U.name = f\"  {a}^{power} mod {N}  \"\n",
        "    c_U = U.control()\n",
        "    return c_U"
      ]
    },
    {
      "cell_type": "markdown",
      "metadata": {
        "id": "fbnL9qRVy5yU"
      },
      "source": [
        "#### Building block of Shor's algorithm"
      ]
    },
    {
      "cell_type": "code",
      "execution_count": null,
      "metadata": {
        "colab": {
          "base_uri": "https://localhost:8080/",
          "height": 471
        },
        "id": "raB_Q32HPAvH",
        "outputId": "8ee4a3c5-cb67-4ece-ed61-d697e75776ee"
      },
      "outputs": [
        {
          "name": "stdout",
          "output_type": "stream",
          "text": [
            "Número de qubit adicionale para modulo: 4\n"
          ]
        },
        {
          "data": {
            "text/html": [
              "<pre style=\"word-wrap: normal;white-space: pre;background: #fff0;line-height: 1.1;font-family: &quot;Courier New&quot;,Courier,monospace\">      ┌───┐                                                                                                                                                             ┌───────┐┌─┐                     \n",
              " q_0: ┤ H ├─────────■───────────────────────────────────────────────────────────────────────────────────────────────────────────────────────────────────────────────────┤0      ├┤M├─────────────────────\n",
              "      ├───┤         │                                                                                                                                                   │       │└╥┘┌─┐                  \n",
              " q_1: ┤ H ├─────────┼──────────────────■────────────────────────────────────────────────────────────────────────────────────────────────────────────────────────────────┤1      ├─╫─┤M├──────────────────\n",
              "      ├───┤         │                  │                                                                                                                                │       │ ║ └╥┘┌─┐               \n",
              " q_2: ┤ H ├─────────┼──────────────────┼──────────────────■─────────────────────────────────────────────────────────────────────────────────────────────────────────────┤2      ├─╫──╫─┤M├───────────────\n",
              "      ├───┤         │                  │                  │                                                                                                             │       │ ║  ║ └╥┘┌─┐            \n",
              " q_3: ┤ H ├─────────┼──────────────────┼──────────────────┼──────────────────■──────────────────────────────────────────────────────────────────────────────────────────┤3      ├─╫──╫──╫─┤M├────────────\n",
              "      ├───┤         │                  │                  │                  │                                                                                          │  IQFT │ ║  ║  ║ └╥┘┌─┐         \n",
              " q_4: ┤ H ├─────────┼──────────────────┼──────────────────┼──────────────────┼──────────────────■───────────────────────────────────────────────────────────────────────┤4      ├─╫──╫──╫──╫─┤M├─────────\n",
              "      ├───┤         │                  │                  │                  │                  │                                                                       │       │ ║  ║  ║  ║ └╥┘┌─┐      \n",
              " q_5: ┤ H ├─────────┼──────────────────┼──────────────────┼──────────────────┼──────────────────┼───────────────────■───────────────────────────────────────────────────┤5      ├─╫──╫──╫──╫──╫─┤M├──────\n",
              "      ├───┤         │                  │                  │                  │                  │                   │                                                   │       │ ║  ║  ║  ║  ║ └╥┘┌─┐   \n",
              " q_6: ┤ H ├─────────┼──────────────────┼──────────────────┼──────────────────┼──────────────────┼───────────────────┼───────────────────■───────────────────────────────┤6      ├─╫──╫──╫──╫──╫──╫─┤M├───\n",
              "      ├───┤         │                  │                  │                  │                  │                   │                   │                               │       │ ║  ║  ║  ║  ║  ║ └╥┘┌─┐\n",
              " q_7: ┤ H ├─────────┼──────────────────┼──────────────────┼──────────────────┼──────────────────┼───────────────────┼───────────────────┼────────────────────■──────────┤7      ├─╫──╫──╫──╫──╫──╫──╫─┤M├\n",
              "      ├───┤┌────────┴────────┐┌────────┴────────┐┌────────┴────────┐┌────────┴────────┐┌────────┴─────────┐┌────────┴─────────┐┌────────┴─────────┐┌─────────┴─────────┐└───────┘ ║  ║  ║  ║  ║  ║  ║ └╥┘\n",
              " q_8: ┤ X ├┤0                ├┤0                ├┤0                ├┤0                ├┤0                 ├┤0                 ├┤0                 ├┤0                  ├──────────╫──╫──╫──╫──╫──╫──╫──╫─\n",
              "      └───┘│                 ││                 ││                 ││                 ││                  ││                  ││                  ││                   │          ║  ║  ║  ║  ║  ║  ║  ║ \n",
              " q_9: ─────┤1                ├┤1                ├┤1                ├┤1                ├┤1                 ├┤1                 ├┤1                 ├┤1                  ├──────────╫──╫──╫──╫──╫──╫──╫──╫─\n",
              "           │    7^1 mod 15   ││    7^2 mod 15   ││    7^4 mod 15   ││    7^8 mod 15   ││    7^16 mod 15   ││    7^32 mod 15   ││    7^64 mod 15   ││    7^128 mod 15   │          ║  ║  ║  ║  ║  ║  ║  ║ \n",
              "q_10: ─────┤2                ├┤2                ├┤2                ├┤2                ├┤2                 ├┤2                 ├┤2                 ├┤2                  ├──────────╫──╫──╫──╫──╫──╫──╫──╫─\n",
              "           │                 ││                 ││                 ││                 ││                  ││                  ││                  ││                   │          ║  ║  ║  ║  ║  ║  ║  ║ \n",
              "q_11: ─────┤3                ├┤3                ├┤3                ├┤3                ├┤3                 ├┤3                 ├┤3                 ├┤3                  ├──────────╫──╫──╫──╫──╫──╫──╫──╫─\n",
              "           └─────────────────┘└─────────────────┘└─────────────────┘└─────────────────┘└──────────────────┘└──────────────────┘└──────────────────┘└───────────────────┘          ║  ║  ║  ║  ║  ║  ║  ║ \n",
              " c: 8/════════════════════════════════════════════════════════════════════════════════════════════════════════════════════════════════════════════════════════════════════════════╩══╩══╩══╩══╩══╩══╩══╩═\n",
              "                                                                                                                                                                                  0  1  2  3  4  5  6  7 </pre>"
            ],
            "text/plain": [
              "      ┌───┐                                                                                                                                                             ┌───────┐┌─┐                     \n",
              " q_0: ┤ H ├─────────■───────────────────────────────────────────────────────────────────────────────────────────────────────────────────────────────────────────────────┤0      ├┤M├─────────────────────\n",
              "      ├───┤         │                                                                                                                                                   │       │└╥┘┌─┐                  \n",
              " q_1: ┤ H ├─────────┼──────────────────■────────────────────────────────────────────────────────────────────────────────────────────────────────────────────────────────┤1      ├─╫─┤M├──────────────────\n",
              "      ├───┤         │                  │                                                                                                                                │       │ ║ └╥┘┌─┐               \n",
              " q_2: ┤ H ├─────────┼──────────────────┼──────────────────■─────────────────────────────────────────────────────────────────────────────────────────────────────────────┤2      ├─╫──╫─┤M├───────────────\n",
              "      ├───┤         │                  │                  │                                                                                                             │       │ ║  ║ └╥┘┌─┐            \n",
              " q_3: ┤ H ├─────────┼──────────────────┼──────────────────┼──────────────────■──────────────────────────────────────────────────────────────────────────────────────────┤3      ├─╫──╫──╫─┤M├────────────\n",
              "      ├───┤         │                  │                  │                  │                                                                                          │  IQFT │ ║  ║  ║ └╥┘┌─┐         \n",
              " q_4: ┤ H ├─────────┼──────────────────┼──────────────────┼──────────────────┼──────────────────■───────────────────────────────────────────────────────────────────────┤4      ├─╫──╫──╫──╫─┤M├─────────\n",
              "      ├───┤         │                  │                  │                  │                  │                                                                       │       │ ║  ║  ║  ║ └╥┘┌─┐      \n",
              " q_5: ┤ H ├─────────┼──────────────────┼──────────────────┼──────────────────┼──────────────────┼───────────────────■───────────────────────────────────────────────────┤5      ├─╫──╫──╫──╫──╫─┤M├──────\n",
              "      ├───┤         │                  │                  │                  │                  │                   │                                                   │       │ ║  ║  ║  ║  ║ └╥┘┌─┐   \n",
              " q_6: ┤ H ├─────────┼──────────────────┼──────────────────┼──────────────────┼──────────────────┼───────────────────┼───────────────────■───────────────────────────────┤6      ├─╫──╫──╫──╫──╫──╫─┤M├───\n",
              "      ├───┤         │                  │                  │                  │                  │                   │                   │                               │       │ ║  ║  ║  ║  ║  ║ └╥┘┌─┐\n",
              " q_7: ┤ H ├─────────┼──────────────────┼──────────────────┼──────────────────┼──────────────────┼───────────────────┼───────────────────┼────────────────────■──────────┤7      ├─╫──╫──╫──╫──╫──╫──╫─┤M├\n",
              "      ├───┤┌────────┴────────┐┌────────┴────────┐┌────────┴────────┐┌────────┴────────┐┌────────┴─────────┐┌────────┴─────────┐┌────────┴─────────┐┌─────────┴─────────┐└───────┘ ║  ║  ║  ║  ║  ║  ║ └╥┘\n",
              " q_8: ┤ X ├┤0                ├┤0                ├┤0                ├┤0                ├┤0                 ├┤0                 ├┤0                 ├┤0                  ├──────────╫──╫──╫──╫──╫──╫──╫──╫─\n",
              "      └───┘│                 ││                 ││                 ││                 ││                  ││                  ││                  ││                   │          ║  ║  ║  ║  ║  ║  ║  ║ \n",
              " q_9: ─────┤1                ├┤1                ├┤1                ├┤1                ├┤1                 ├┤1                 ├┤1                 ├┤1                  ├──────────╫──╫──╫──╫──╫──╫──╫──╫─\n",
              "           │    7^1 mod 15   ││    7^2 mod 15   ││    7^4 mod 15   ││    7^8 mod 15   ││    7^16 mod 15   ││    7^32 mod 15   ││    7^64 mod 15   ││    7^128 mod 15   │          ║  ║  ║  ║  ║  ║  ║  ║ \n",
              "q_10: ─────┤2                ├┤2                ├┤2                ├┤2                ├┤2                 ├┤2                 ├┤2                 ├┤2                  ├──────────╫──╫──╫──╫──╫──╫──╫──╫─\n",
              "           │                 ││                 ││                 ││                 ││                  ││                  ││                  ││                   │          ║  ║  ║  ║  ║  ║  ║  ║ \n",
              "q_11: ─────┤3                ├┤3                ├┤3                ├┤3                ├┤3                 ├┤3                 ├┤3                 ├┤3                  ├──────────╫──╫──╫──╫──╫──╫──╫──╫─\n",
              "           └─────────────────┘└─────────────────┘└─────────────────┘└─────────────────┘└──────────────────┘└──────────────────┘└──────────────────┘└───────────────────┘          ║  ║  ║  ║  ║  ║  ║  ║ \n",
              " c: 8/════════════════════════════════════════════════════════════════════════════════════════════════════════════════════════════════════════════════════════════════════════════╩══╩══╩══╩══╩══╩══╩══╩═\n",
              "                                                                                                                                                                                  0  1  2  3  4  5  6  7 "
            ]
          },
          "execution_count": 6,
          "metadata": {},
          "output_type": "execute_result"
        }
      ],
      "source": [
        "N = 15\n",
        "a = 7\n",
        "N_COUNT = 8\n",
        "n_qubits_mas_para_modulo = optener_numero_de_qubits(N)\n",
        "print(f'Número de qubit adicionale para modulo: {n_qubits_mas_para_modulo}')\n",
        "qc = QuantumCircuit(N_COUNT + n_qubits_mas_para_modulo, N_COUNT)\n",
        "\n",
        "# Initialize counting qubits\n",
        "# in state |+>\n",
        "for q in range(N_COUNT):\n",
        "    qc.h(q)\n",
        "\n",
        "# And auxiliary register in state |1>\n",
        "qc.x(N_COUNT)\n",
        "\n",
        "# Do controlled-U operations\n",
        "for q in range(N_COUNT):\n",
        "    qc.append(c_amod15(a, 2**q, n_qubits_mas_para_modulo, N),\n",
        "             [q] + [i+N_COUNT for i in range(n_qubits_mas_para_modulo)])\n",
        "\n",
        "# Do inverse-QFT\n",
        "invQFT = QFT(N_COUNT, do_swaps=True).inverse()\n",
        "qc.append(invQFT, range(N_COUNT))\n",
        "\n",
        "# Measure circuit\n",
        "qc.measure(range(N_COUNT), range(N_COUNT))\n",
        "qc.draw(fold=-1)  # -1 means 'do not fold'"
      ]
    },
    {
      "cell_type": "markdown",
      "metadata": {
        "id": "jZO700DCzUrF"
      },
      "source": [
        "#### Results."
      ]
    },
    {
      "cell_type": "code",
      "execution_count": null,
      "metadata": {
        "colab": {
          "base_uri": "https://localhost:8080/",
          "height": 487
        },
        "id": "8I4t55JkPHnu",
        "outputId": "bcc2309b-3709-462f-fc40-8ba66b8f1f34"
      },
      "outputs": [
        {
          "data": {
            "image/png": "[encoded data removed]",
            "text/plain": [
              "<Figure size 640x480 with 1 Axes>"
            ]
          },
          "execution_count": 7,
          "metadata": {},
          "output_type": "execute_result"
        }
      ],
      "source": [
        "# Let's see the results!\n",
        "aer_sim = AerSimulator()\n",
        "shots = 4096\n",
        "t_qc = transpile(qc, aer_sim)\n",
        "counts = aer_sim.run(t_qc).result().get_counts()\n",
        "\n",
        "plot_histogram(counts)"
      ]
    },
    {
      "cell_type": "code",
      "execution_count": null,
      "metadata": {
        "colab": {
          "base_uri": "https://localhost:8080/"
        },
        "id": "CjuO1IPuQbWQ",
        "outputId": "89b21980-d52f-4181-9163-eaf85c7b6d2c"
      },
      "outputs": [
        {
          "name": "stdout",
          "output_type": "stream",
          "text": [
            "            Register Output           Phase\n",
            "0  11000000(bin) = 192(dec)  192/256 = 0.75\n",
            "1  00000000(bin) =   0(dec)    0/256 = 0.00\n",
            "2  01000000(bin) =  64(dec)   64/256 = 0.25\n",
            "3  10000000(bin) = 128(dec)  128/256 = 0.50\n"
          ]
        }
      ],
      "source": [
        "rows, measured_phases = [], []\n",
        "for output in counts:\n",
        "    decimal = int(output, 2)  # Convert (base 2) string to decimal\n",
        "    phase = decimal/(2**N_COUNT)  # Find corresponding eigenvalue\n",
        "    measured_phases.append(phase)\n",
        "    # Add these values to the rows in our table:\n",
        "    rows.append([f\"{output}(bin) = {decimal:>3}(dec)\",\n",
        "                 f\"{decimal}/{2**N_COUNT} = {phase:.2f}\"])\n",
        "# Print the rows in a table\n",
        "headers=[\"Register Output\", \"Phase\"]\n",
        "df = pd.DataFrame(rows, columns=headers)\n",
        "print(df)"
      ]
    },
    {
      "cell_type": "code",
      "execution_count": null,
      "metadata": {
        "colab": {
          "base_uri": "https://localhost:8080/"
        },
        "id": "V1ATaBW3QuLK",
        "outputId": "b1789219-dc66-4d42-d62d-064990009405"
      },
      "outputs": [
        {
          "data": {
            "text/plain": [
              "Fraction(5998794703657501, 9007199254740992)"
            ]
          },
          "execution_count": 9,
          "metadata": {},
          "output_type": "execute_result"
        }
      ],
      "source": [
        "Fraction(0.666)\n"
      ]
    },
    {
      "cell_type": "code",
      "execution_count": null,
      "metadata": {
        "colab": {
          "base_uri": "https://localhost:8080/"
        },
        "id": "7DrjfGRDQv9-",
        "outputId": "65d8518b-1ca2-4351-fa4a-77d60653f9e7"
      },
      "outputs": [
        {
          "data": {
            "text/plain": [
              "Fraction(2, 3)"
            ]
          },
          "execution_count": 10,
          "metadata": {},
          "output_type": "execute_result"
        }
      ],
      "source": [
        "# Get fraction that most closely resembles 0.666\n",
        "# with denominator < 15\n",
        "Fraction(0.666).limit_denominator(15)\n"
      ]
    },
    {
      "cell_type": "code",
      "execution_count": null,
      "metadata": {
        "colab": {
          "base_uri": "https://localhost:8080/"
        },
        "id": "9N6wuUbmQxMY",
        "outputId": "734d832d-3270-465f-e339-ab5fe2f2ed77"
      },
      "outputs": [
        {
          "name": "stdout",
          "output_type": "stream",
          "text": [
            "   Phase Fraction  Guess for r\n",
            "0   0.75      3/4            4\n",
            "1   0.00      0/1            1\n",
            "2   0.25      1/4            4\n",
            "3   0.50      1/2            2\n"
          ]
        }
      ],
      "source": [
        "rows = []\n",
        "for phase in measured_phases:\n",
        "    frac = Fraction(phase).limit_denominator(15)\n",
        "    rows.append([phase,\n",
        "                 f\"{frac.numerator}/{frac.denominator}\",\n",
        "                 frac.denominator])\n",
        "# Print as a table\n",
        "headers=[\"Phase\", \"Fraction\", \"Guess for r\"]\n",
        "df = pd.DataFrame(rows, columns=headers)\n",
        "print(df)\n"
      ]
    },
    {
      "cell_type": "code",
      "execution_count": null,
      "metadata": {
        "id": "gW3KZufwQywO"
      },
      "outputs": [],
      "source": [
        "def a2jmodN(a, j, N):\n",
        "    \"\"\"Compute a^{2^j} (mod N) by repeated squaring\"\"\"\n",
        "    for _ in range(j):\n",
        "        a = np.mod(a**2, N)\n",
        "    return a\n"
      ]
    },
    {
      "cell_type": "code",
      "execution_count": null,
      "metadata": {
        "colab": {
          "base_uri": "https://localhost:8080/"
        },
        "id": "V6I5Ci0bQ052",
        "outputId": "b5e79775-0b76-4eca-d9cd-d3d37f8e16dc"
      },
      "outputs": [
        {
          "data": {
            "text/plain": [
              "np.int64(47)"
            ]
          },
          "execution_count": 13,
          "metadata": {},
          "output_type": "execute_result"
        }
      ],
      "source": [
        "a2jmodN(7, 2049, 53)"
      ]
    },
    {
      "cell_type": "code",
      "execution_count": null,
      "metadata": {
        "colab": {
          "base_uri": "https://localhost:8080/"
        },
        "id": "5KMY_6vWQ3JK",
        "outputId": "96f287fc-374a-418d-c969-fbd16cbba6d2"
      },
      "outputs": [
        {
          "name": "stdout",
          "output_type": "stream",
          "text": [
            "7\n"
          ]
        }
      ],
      "source": [
        "np.random.seed(1) # This is to make sure we get reproduceable results\n",
        "a = randint(2, N)\n",
        "print(a)"
      ]
    },
    {
      "cell_type": "code",
      "execution_count": null,
      "metadata": {
        "colab": {
          "base_uri": "https://localhost:8080/"
        },
        "id": "wnxwsQjbQ-RP",
        "outputId": "d0165756-9730-4d0b-9cee-24e07ee626cd"
      },
      "outputs": [
        {
          "data": {
            "text/plain": [
              "1"
            ]
          },
          "execution_count": 15,
          "metadata": {},
          "output_type": "execute_result"
        }
      ],
      "source": [
        "gcd(a, N)"
      ]
    },
    {
      "cell_type": "markdown",
      "metadata": {
        "id": "mSwv64s0zpcx"
      },
      "source": [
        "#### Quantum Phase Estimation"
      ]
    },
    {
      "cell_type": "code",
      "execution_count": null,
      "metadata": {
        "id": "7SHVwbHYRBP8"
      },
      "outputs": [],
      "source": [
        "def qpe_amod15(a, N):\n",
        "    \"\"\"Performs quantum phase estimation on the operation a*r mod 15.\n",
        "    Args:\n",
        "        a (int): This is 'a' in a*r mod 15\n",
        "    Returns:\n",
        "        float: Estimate of the phase\n",
        "    \"\"\"\n",
        "    N_COUNT = 8\n",
        "    n_qubits_mas_para_modulo = optener_numero_de_qubits(N)\n",
        "    qc = QuantumCircuit(N_COUNT + n_qubits_mas_para_modulo, N_COUNT)\n",
        "    for q in range(N_COUNT):\n",
        "        qc.h(q)     # Initialize counting qubits in state |+>\n",
        "\n",
        "    qc.x(N_COUNT) # And auxiliary register in state |1>\n",
        "\n",
        "    for q in range(N_COUNT): # Do controlled-U operations\n",
        "        qc.append(c_amod15(a, 2**q, n_qubits_mas_para_modulo, N),\n",
        "                 [q] + [i+N_COUNT for i in range(n_qubits_mas_para_modulo)])\n",
        "    invQFT = QFT(N_COUNT, do_swaps=True).inverse()\n",
        "    qc.append(invQFT, range(N_COUNT))\n",
        "    qc.measure(range(N_COUNT), range(N_COUNT))\n",
        "\n",
        "    # Simulate Results\n",
        "    aer_sim = AerSimulator()\n",
        "    # `memory=True` tells the backend to save each measurement in a list\n",
        "    job = aer_sim.run(transpile(qc, aer_sim), shots=1024, memory=True)\n",
        "    readings = job.result().get_memory()\n",
        "    print(\"Register Reading: \" + readings[0])\n",
        "    phase = int(readings[0],2)/(2**N_COUNT)\n",
        "    print(f\"Corresponding Phase: {phase}\")\n",
        "    return phase"
      ]
    },
    {
      "cell_type": "code",
      "execution_count": null,
      "metadata": {
        "colab": {
          "base_uri": "https://localhost:8080/"
        },
        "id": "5oM8Rk0-RWGh",
        "outputId": "dcb0b395-a1d7-4d4c-9939-67ffa6d13540"
      },
      "outputs": [
        {
          "name": "stdout",
          "output_type": "stream",
          "text": [
            "Register Reading: 01000000\n",
            "Corresponding Phase: 0.25\n"
          ]
        },
        {
          "data": {
            "text/plain": [
              "Fraction(1, 4)"
            ]
          },
          "execution_count": 17,
          "metadata": {},
          "output_type": "execute_result"
        }
      ],
      "source": [
        "phase = qpe_amod15(a, N) # Phase = s/r\n",
        "Fraction(phase).limit_denominator(15)"
      ]
    },
    {
      "cell_type": "code",
      "execution_count": null,
      "metadata": {
        "colab": {
          "base_uri": "https://localhost:8080/"
        },
        "id": "H0gVDzg0RYxy",
        "outputId": "c7a3d81a-907f-41ec-8a5d-5cf259cb6d2e"
      },
      "outputs": [
        {
          "name": "stdout",
          "output_type": "stream",
          "text": [
            "1 4\n"
          ]
        }
      ],
      "source": [
        "frac = Fraction(phase).limit_denominator(15)\n",
        "s, r = frac.numerator, frac.denominator\n",
        "print(s, r)"
      ]
    },
    {
      "cell_type": "code",
      "execution_count": null,
      "metadata": {
        "colab": {
          "base_uri": "https://localhost:8080/"
        },
        "id": "F2r2YYiKRa-g",
        "outputId": "b8ed4ab3-5c54-48d0-ae8b-437901a85738"
      },
      "outputs": [
        {
          "name": "stdout",
          "output_type": "stream",
          "text": [
            "[3, 5]\n"
          ]
        }
      ],
      "source": [
        "guesses = [gcd(a**(r//2)-1, N), gcd(a**(r//2)+1, N)]\n",
        "print(guesses)\n"
      ]
    },
    {
      "cell_type": "markdown",
      "metadata": {
        "id": "eL--B5DI0Upf"
      },
      "source": [
        "#### Finding Factors of a = 7, N = 15."
      ]
    },
    {
      "cell_type": "code",
      "execution_count": null,
      "metadata": {
        "colab": {
          "base_uri": "https://localhost:8080/"
        },
        "id": "rS8Qun2WRcSN",
        "outputId": "40bcd792-6edc-4c86-f616-7e41b44049c8"
      },
      "outputs": [
        {
          "name": "stdout",
          "output_type": "stream",
          "text": [
            "\n",
            "ATTEMPT 1:\n",
            "Register Reading: 11000000\n",
            "Corresponding Phase: 0.75\n",
            "Result: r = 4\n",
            "Guessed Factors: 3 and 5\n",
            "*** Non-trivial factor found: 3 ***\n",
            "*** Non-trivial factor found: 5 ***\n"
          ]
        }
      ],
      "source": [
        "N = 15\n",
        "a = 7\n",
        "FACTOR_FOUND = False\n",
        "ATTEMPT = 0\n",
        "while not FACTOR_FOUND:\n",
        "    ATTEMPT += 1\n",
        "    print(f\"\\nATTEMPT {ATTEMPT}:\")\n",
        "    phase = qpe_amod15(a, N) # Phase = s/r\n",
        "    frac = Fraction(phase).limit_denominator(N)\n",
        "    r = frac.denominator\n",
        "    print(f\"Result: r = {r}\")\n",
        "    if phase != 0:\n",
        "        # Guesses for factors are gcd(x^{r/2} ±1 , 15)\n",
        "        guesses = [gcd(a**(r//2)-1, N), gcd(a**(r//2)+1, N)]\n",
        "        print(f\"Guessed Factors: {guesses[0]} and {guesses[1]}\")\n",
        "        for guess in guesses:\n",
        "            if guess not in [1,N] and (N % guess) == 0:\n",
        "                # Guess is a factor!\n",
        "                print(f\"*** Non-trivial factor found: {guess} ***\")\n",
        "                FACTOR_FOUND = True"
      ]
    },
    {
      "cell_type": "markdown",
      "metadata": {
        "id": "vNdn04n8cD4k"
      },
      "source": [
        "### Code Try 2 - With Matrix."
      ]
    },
    {
      "cell_type": "markdown",
      "metadata": {
        "id": "t0GnfUUvcjIO"
      },
      "source": [
        "#### Imports"
      ]
    },
    {
      "cell_type": "code",
      "execution_count": 1,
      "metadata": {
        "colab": {
          "base_uri": "https://localhost:8080/"
        },
        "id": "g4s7XuX0czoc",
        "outputId": "f2792716-dbd7-4fab-d8c4-56e3c7602b41"
      },
      "outputs": [
        {
          "name": "stdout",
          "output_type": "stream",
          "text": [
            "Importaciones completadas correctamente\n"
          ]
        }
      ],
      "source": [
        "import matplotlib.pyplot as plt\n",
        "from numpy.random import randint\n",
        "from fractions import Fraction\n",
        "from tqdm import tqdm\n",
        "from math import gcd\n",
        "import pandas as pd\n",
        "import numpy as np\n",
        "import math\n",
        "import math\n",
        "import time\n",
        "\n",
        "from qiskit import transpile\n",
        "from qiskit import QuantumCircuit, ClassicalRegister, QuantumRegister\n",
        "from qiskit.circuit.library import QFT, UnitaryGate\n",
        "from qiskit.visualization import plot_histogram\n",
        "from qiskit_aer import AerSimulator\n",
        "\n",
        "print('Importaciones completadas correctamente')"
      ]
    },
    {
      "cell_type": "code",
      "execution_count": 2,
      "metadata": {
        "colab": {
          "base_uri": "https://localhost:8080/",
          "height": 472
        },
        "id": "PPBWP3b5cNpJ",
        "outputId": "4e0d8de0-8630-40e1-9e38-28b4f890f5c9"
      },
      "outputs": [
        {
          "data": {
            "image/png": "[encoded data removed]",
            "text/plain": [
              "<Figure size 640x480 with 1 Axes>"
            ]
          },
          "metadata": {},
          "output_type": "display_data"
        }
      ],
      "source": [
        "N = 15\n",
        "a = 7\n",
        "\n",
        "# Calculate the plotting data\n",
        "xvals = np.arange(35)\n",
        "yvals = [np.mod(a**x, N) for x in xvals]\n",
        "\n",
        "# Use matplotlib to display it nicely\n",
        "fig, ax = plt.subplots()\n",
        "ax.plot(xvals, yvals, linewidth=1, linestyle='dotted', marker='x')\n",
        "ax.set(xlabel='$x$', ylabel=f'${a}^x$ mod ${N}$',\n",
        "       title=\"Example of Periodic Function in Shor's Algorithm\")\n",
        "try: # plot r on the graph\n",
        "    r = yvals[1:].index(1) + 1\n",
        "    plt.annotate('', xy=(0,1), xytext=(r,1),\n",
        "                 arrowprops=dict(arrowstyle='<->'))\n",
        "    plt.annotate(f'$r={r}$', xy=(r/3,1.5))\n",
        "except ValueError:\n",
        "    print('Could not find period, check a < N and have no common factors.')"
      ]
    },
    {
      "cell_type": "markdown",
      "metadata": {
        "id": "Sv1jFQA_lIGJ"
      },
      "source": [
        "#### Functions"
      ]
    },
    {
      "cell_type": "code",
      "execution_count": 3,
      "metadata": {
        "id": "Yjmg0mMclOEF"
      },
      "outputs": [],
      "source": [
        "# -------------------------\n",
        "# Función para superíndices bonitos en Unicode\n",
        "# -------------------------\n",
        "def to_superscript(n):\n",
        "    sup_map = str.maketrans(\"0123456789\", \"⁰¹²³⁴⁵⁶⁷⁸⁹\")\n",
        "    return str(n).translate(sup_map)\n",
        "\n",
        "\n",
        "# -------------------------\n",
        "# Construir matriz unitaria U_a mod N como permutación\n",
        "# -------------------------\n",
        "def z_star(N):\n",
        "    return [x for x in range(1, N) if math.gcd(x, N) == 1]\n",
        "\n",
        "def construct_unitary_gate_from_zstar(a, N, n_target):\n",
        "    dim = 2**n_target\n",
        "    U = np.eye(dim, dtype=complex)  # matriz compleja identidad por defecto\n",
        "\n",
        "    zN_star = z_star(N)\n",
        "    used = set()\n",
        "    for x in zN_star:\n",
        "        y = (a * x) % N\n",
        "        if y not in zN_star:\n",
        "            raise ValueError(f\"Output y={y} not in Z*_N\")\n",
        "        if y in used:\n",
        "            raise ValueError(f\"Collision: a*x mod N is not a permutation over Z*_N (x={x}, y={y})\")\n",
        "        used.add(y)\n",
        "        U[y][x] = 1.0\n",
        "        U[x][x] = 0.0\n",
        "\n",
        "    return UnitaryGate(U)\n",
        "\n",
        "\n",
        "# -------------------------\n",
        "# Construir circuito unitaria U mod N como permutación\n",
        "# -------------------------\n",
        "def controlled_U(qc, n_count, n_target, a, N):\n",
        "  for k in tqdm(range(n_count), desc = f\"Procesando Compuertas Controlled-U\", bar_format='[{elapsed}<{remaining}] {n_fmt}/{total_fmt} | {l_bar}{bar} {rate_fmt}{postfix}', colour='red', leave=False):\n",
        "    # U^{2^k}\n",
        "    exp = 2**k\n",
        "    U_power = U_gate.power(2**k)\n",
        "    U_power.label = f\"{a}{to_superscript(exp)} mod {N}\"\n",
        "    controlled_U = U_power.control()\n",
        "    controlled_U.label = f\"Control{to_superscript(exp)}\"  # ← Opcional, para más claridad en el circuito\n",
        "    qc.append(controlled_U, [k] + list(range(n_count, n_count + n_target)))"
      ]
    },
    {
      "cell_type": "markdown",
      "metadata": {
        "id": "8J6Fjq3NscVd"
      },
      "source": [
        "#### Building block of Shor's algorithm and results."
      ]
    },
    {
      "cell_type": "code",
      "execution_count": 19,
      "metadata": {
        "colab": {
          "base_uri": "https://localhost:8080/"
        },
        "id": "Ss4VNnMXkWPG",
        "outputId": "1ccba647-b395-4718-d9ba-60755dbaef50"
      },
      "outputs": [
        {
          "name": "stderr",
          "output_type": "stream",
          "text": [
            "                                                                                 "
          ]
        },
        {
          "name": "stdout",
          "output_type": "stream",
          "text": [
            "      ┌───┐   Control¹                                                                                                          ┌───────┐┌─┐                     \n",
            " q_0: ┤ H ├──────■──────────────────────────────────────────────────────────────────────────────────────────────────────────────┤0      ├┤M├─────────────────────\n",
            "      ├───┤      │          Control²                                                                                            │       │└╥┘┌─┐                  \n",
            " q_1: ┤ H ├──────┼─────────────■────────────────────────────────────────────────────────────────────────────────────────────────┤1      ├─╫─┤M├──────────────────\n",
            "      ├───┤      │             │          Control⁴                                                                              │       │ ║ └╥┘┌─┐               \n",
            " q_2: ┤ H ├──────┼─────────────┼─────────────■──────────────────────────────────────────────────────────────────────────────────┤2      ├─╫──╫─┤M├───────────────\n",
            "      ├───┤      │             │             │          Control⁸                                                                │       │ ║  ║ └╥┘┌─┐            \n",
            " q_3: ┤ H ├──────┼─────────────┼─────────────┼─────────────■────────────────────────────────────────────────────────────────────┤3      ├─╫──╫──╫─┤M├────────────\n",
            "      ├───┤      │             │             │             │          Control¹⁶                                                 │  IQFT │ ║  ║  ║ └╥┘┌─┐         \n",
            " q_4: ┤ H ├──────┼─────────────┼─────────────┼─────────────┼──────────────■─────────────────────────────────────────────────────┤4      ├─╫──╫──╫──╫─┤M├─────────\n",
            "      ├───┤      │             │             │             │              │          Control³²                                  │       │ ║  ║  ║  ║ └╥┘┌─┐      \n",
            " q_5: ┤ H ├──────┼─────────────┼─────────────┼─────────────┼──────────────┼──────────────■──────────────────────────────────────┤5      ├─╫──╫──╫──╫──╫─┤M├──────\n",
            "      ├───┤      │             │             │             │              │              │          Control⁶⁴                   │       │ ║  ║  ║  ║  ║ └╥┘┌─┐   \n",
            " q_6: ┤ H ├──────┼─────────────┼─────────────┼─────────────┼──────────────┼──────────────┼──────────────■───────────────────────┤6      ├─╫──╫──╫──╫──╫──╫─┤M├───\n",
            "      ├───┤      │             │             │             │              │              │              │          Control¹²⁸   │       │ ║  ║  ║  ║  ║  ║ └╥┘┌─┐\n",
            " q_7: ┤ H ├──────┼─────────────┼─────────────┼─────────────┼──────────────┼──────────────┼──────────────┼──────────────■────────┤7      ├─╫──╫──╫──╫──╫──╫──╫─┤M├\n",
            "      └───┘┌─────┴──────┐┌─────┴──────┐┌─────┴──────┐┌─────┴──────┐┌──────┴──────┐┌──────┴──────┐┌──────┴──────┐┌──────┴───────┐└───────┘ ║  ║  ║  ║  ║  ║  ║ └╥┘\n",
            " q_8: ─────┤0           ├┤0           ├┤0           ├┤0           ├┤0            ├┤0            ├┤0            ├┤0             ├──────────╫──╫──╫──╫──╫──╫──╫──╫─\n",
            "           │            ││            ││            ││            ││             ││             ││             ││              │          ║  ║  ║  ║  ║  ║  ║  ║ \n",
            " q_9: ─────┤1           ├┤1           ├┤1           ├┤1           ├┤1            ├┤1            ├┤1            ├┤1             ├──────────╫──╫──╫──╫──╫──╫──╫──╫─\n",
            "           │  7¹ mod 15 ││  7² mod 15 ││  7⁴ mod 15 ││  7⁸ mod 15 ││  7¹⁶ mod 15 ││  7³² mod 15 ││  7⁶⁴ mod 15 ││  7¹²⁸ mod 15 │          ║  ║  ║  ║  ║  ║  ║  ║ \n",
            "q_10: ─────┤2           ├┤2           ├┤2           ├┤2           ├┤2            ├┤2            ├┤2            ├┤2             ├──────────╫──╫──╫──╫──╫──╫──╫──╫─\n",
            "      ┌───┐│            ││            ││            ││            ││             ││             ││             ││              │          ║  ║  ║  ║  ║  ║  ║  ║ \n",
            "q_11: ┤ X ├┤3           ├┤3           ├┤3           ├┤3           ├┤3            ├┤3            ├┤3            ├┤3             ├──────────╫──╫──╫──╫──╫──╫──╫──╫─\n",
            "      └───┘└────────────┘└────────────┘└────────────┘└────────────┘└─────────────┘└─────────────┘└─────────────┘└──────────────┘          ║  ║  ║  ║  ║  ║  ║  ║ \n",
            " c: 8/════════════════════════════════════════════════════════════════════════════════════════════════════════════════════════════════════╩══╩══╩══╩══╩══╩══╩══╩═\n",
            "                                                                                                                                          0  1  2  3  4  5  6  7 \n"
          ]
        },
        {
          "name": "stderr",
          "output_type": "stream",
          "text": [
            "\r"
          ]
        }
      ],
      "source": [
        "# Parámetros\n",
        "N = 15\n",
        "a = 7\n",
        "n_count = 8\n",
        "n_target = math.ceil(math.log2(N))\n",
        "\n",
        "U_gate = construct_unitary_gate_from_zstar(a, N, n_target)\n",
        "\n",
        "# -------------------------\n",
        "# Circuito de QPE\n",
        "# -------------------------\n",
        "qc = QuantumCircuit(n_count + n_target, n_count)\n",
        "\n",
        "# Paso 1: Hadamard\n",
        "qc.h(range(n_count))\n",
        "\n",
        "# Paso 2: Inicializar registro target en |1⟩\n",
        "qc.x(n_count + n_target - 1)\n",
        "\n",
        "# Paso 3: Controlled-U^{2^k}\n",
        "controlled_U(qc, n_count, n_target, a, N)\n",
        "\n",
        "# Paso 4: QFT⁻¹\n",
        "qc.append(QFT(n_count, inverse=True, do_swaps=True), range(n_count))\n",
        "\n",
        "# Paso 5: Medición\n",
        "qc.measure(range(n_count), range(n_count))\n",
        "\n",
        "print(qc.draw(fold=-1))\n",
        "\n"
      ]
    },
    {
      "cell_type": "markdown",
      "metadata": {
        "id": "-wyeP7ihtQL5"
      },
      "source": [
        "#### Results."
      ]
    },
    {
      "cell_type": "code",
      "execution_count": 22,
      "metadata": {
        "colab": {
          "base_uri": "https://localhost:8080/",
          "height": 487
        },
        "id": "5Dod_w6mtHW4",
        "outputId": "13a1ce7c-b3ed-46b5-ca98-8cc6b785f158"
      },
      "outputs": [
        {
          "data": {
            "image/png": "[encoded data removed]",
            "text/plain": [
              "<Figure size 640x480 with 1 Axes>"
            ]
          },
          "execution_count": 22,
          "metadata": {},
          "output_type": "execute_result"
        }
      ],
      "source": [
        "\n",
        "# -------------------------\n",
        "# Simulación\n",
        "# -------------------------\n",
        "simulator = AerSimulator()\n",
        "compiled = transpile(qc, simulator)\n",
        "result = simulator.run(compiled, shots=2048).result()\n",
        "counts = result.get_counts()\n",
        "plot_histogram(counts)"
      ]
    },
    {
      "cell_type": "code",
      "execution_count": 5,
      "metadata": {
        "colab": {
          "base_uri": "https://localhost:8080/"
        },
        "id": "knzXUSLYeb-C",
        "outputId": "15d90bd1-958b-40c8-a2f0-24c51a59034f"
      },
      "outputs": [
        {
          "name": "stdout",
          "output_type": "stream",
          "text": [
            "            Register Output           Phase\n",
            "0  11000000(bin) = 192(dec)  192/256 = 0.75\n",
            "1  10000000(bin) = 128(dec)  128/256 = 0.50\n",
            "2  00000000(bin) =   0(dec)    0/256 = 0.00\n",
            "3  01000000(bin) =  64(dec)   64/256 = 0.25\n"
          ]
        }
      ],
      "source": [
        "rows, measured_phases = [], []\n",
        "for output in counts:\n",
        "    decimal = int(output, 2)  # Convert (base 2) string to decimal\n",
        "    phase = decimal/(2**n_count)  # Find corresponding eigenvalue\n",
        "    measured_phases.append(phase)\n",
        "    # Add these values to the rows in our table:\n",
        "    rows.append([f\"{output}(bin) = {decimal:>3}(dec)\",\n",
        "                 f\"{decimal}/{2**n_count} = {phase:.2f}\"])\n",
        "# Print the rows in a table\n",
        "headers=[\"Register Output\", \"Phase\"]\n",
        "df = pd.DataFrame(rows, columns=headers)\n",
        "print(df)"
      ]
    },
    {
      "cell_type": "code",
      "execution_count": 6,
      "metadata": {
        "colab": {
          "base_uri": "https://localhost:8080/"
        },
        "id": "R_5kaD4veks7",
        "outputId": "cb8ba672-db20-41fb-8907-cd8d2f305265"
      },
      "outputs": [
        {
          "data": {
            "text/plain": [
              "Fraction(5998794703657501, 9007199254740992)"
            ]
          },
          "execution_count": 6,
          "metadata": {},
          "output_type": "execute_result"
        }
      ],
      "source": [
        "Fraction(0.666)"
      ]
    },
    {
      "cell_type": "code",
      "execution_count": 7,
      "metadata": {
        "colab": {
          "base_uri": "https://localhost:8080/"
        },
        "id": "KpZz2206emnS",
        "outputId": "8b37c00b-8893-43d5-bda0-efa200303de8"
      },
      "outputs": [
        {
          "data": {
            "text/plain": [
              "Fraction(2, 3)"
            ]
          },
          "execution_count": 7,
          "metadata": {},
          "output_type": "execute_result"
        }
      ],
      "source": [
        "# Get fraction that most closely resembles 0.666\n",
        "# with denominator < 15\n",
        "Fraction(0.666).limit_denominator(15)\n"
      ]
    },
    {
      "cell_type": "code",
      "execution_count": 8,
      "metadata": {
        "colab": {
          "base_uri": "https://localhost:8080/"
        },
        "id": "an0MPmRcethc",
        "outputId": "170032f6-bf94-4872-efb0-bf0b647ddac3"
      },
      "outputs": [
        {
          "name": "stdout",
          "output_type": "stream",
          "text": [
            "   Phase Fraction  Guess for r\n",
            "0   0.75      3/4            4\n",
            "1   0.50      1/2            2\n",
            "2   0.00      0/1            1\n",
            "3   0.25      1/4            4\n"
          ]
        }
      ],
      "source": [
        "rows = []\n",
        "for phase in measured_phases:\n",
        "    frac = Fraction(phase).limit_denominator(15)\n",
        "    rows.append([phase,\n",
        "                 f\"{frac.numerator}/{frac.denominator}\",\n",
        "                 frac.denominator])\n",
        "# Print as a table\n",
        "headers=[\"Phase\", \"Fraction\", \"Guess for r\"]\n",
        "df = pd.DataFrame(rows, columns=headers)\n",
        "print(df)\n"
      ]
    },
    {
      "cell_type": "code",
      "execution_count": 9,
      "metadata": {
        "colab": {
          "base_uri": "https://localhost:8080/"
        },
        "id": "B-6CqMN1fFjU",
        "outputId": "9ff00cc8-ac96-4988-cf36-d1292896168f"
      },
      "outputs": [
        {
          "name": "stdout",
          "output_type": "stream",
          "text": [
            "7\n"
          ]
        }
      ],
      "source": [
        "np.random.seed(1) # This is to make sure we get reproduceable results\n",
        "a = randint(2, N)\n",
        "print(a)"
      ]
    },
    {
      "cell_type": "code",
      "execution_count": 10,
      "metadata": {
        "colab": {
          "base_uri": "https://localhost:8080/"
        },
        "id": "IH9btsIqfH1B",
        "outputId": "0973a2c4-10bb-44a3-a2e9-57d4f8cbd880"
      },
      "outputs": [
        {
          "data": {
            "text/plain": [
              "1"
            ]
          },
          "execution_count": 10,
          "metadata": {},
          "output_type": "execute_result"
        }
      ],
      "source": [
        "gcd(a, N)"
      ]
    },
    {
      "cell_type": "markdown",
      "metadata": {
        "id": "F4CMB0_FtmPg"
      },
      "source": [
        "#### Quantum Phase Estimation"
      ]
    },
    {
      "cell_type": "code",
      "execution_count": 12,
      "metadata": {
        "id": "0uhq7Ca-fJPQ"
      },
      "outputs": [],
      "source": [
        "def qpe_amod15(a, N):\n",
        "  \"\"\"Performs quantum phase estimation on the operation a*r mod 15.\n",
        "  Args:\n",
        "      a (int): This is 'a' in a*r mod 15\n",
        "  Returns:\n",
        "      float: Estimate of the phase\n",
        "  \"\"\"\n",
        "  # Parámetros\n",
        "  N = 15\n",
        "  a = 7\n",
        "  n_count = 8\n",
        "  n_target = math.ceil(math.log2(N))\n",
        "\n",
        "  U_gate = construct_unitary_gate_from_zstar(a, N, n_target)\n",
        "\n",
        "  # -------------------------\n",
        "  # Circuito de QPE\n",
        "  # -------------------------\n",
        "  qc = QuantumCircuit(n_count + n_target, n_count)\n",
        "\n",
        "  # Paso 1: Hadamard\n",
        "  qc.h(range(n_count))\n",
        "\n",
        "  # Paso 2: Inicializar registro target en |1⟩\n",
        "  qc.x(n_count + n_target - 1)\n",
        "\n",
        "  # Paso 3: Controlled-U^{2^k}\n",
        "  controlled_U(qc, n_count, n_target, a, N)\n",
        "\n",
        "  # Paso 4: QFT⁻¹\n",
        "  qc.append(QFT(n_count, inverse=True, do_swaps=True), range(n_count))\n",
        "\n",
        "  # Paso 5: Medición\n",
        "  qc.measure(range(n_count), range(n_count))\n",
        "\n",
        "  # -------------------------\n",
        "  # Simulación\n",
        "  # -------------------------\n",
        "  aer_sim = AerSimulator()\n",
        "\n",
        "  #plot_histogram(counts)\n",
        "  # `memory=True` tells the backend to save each measurement in a list\n",
        "  job = aer_sim.run(transpile(qc, aer_sim), shots=2048, memory=True)\n",
        "  readings = job.result().get_memory()\n",
        "  print(\"Register Reading: \" + readings[0])\n",
        "  phase = int(readings[0],2)/(2**n_count)\n",
        "  print(f\"Corresponding Phase: {phase}\")\n",
        "  return phase"
      ]
    },
    {
      "cell_type": "code",
      "execution_count": 14,
      "metadata": {
        "colab": {
          "base_uri": "https://localhost:8080/"
        },
        "id": "-ir0K3WYna3Z",
        "outputId": "c19c91a7-3087-4d86-ec2c-75037ad3f723"
      },
      "outputs": [
        {
          "name": "stderr",
          "output_type": "stream",
          "text": []
        },
        {
          "name": "stdout",
          "output_type": "stream",
          "text": [
            "Register Reading: 11000000\n",
            "Corresponding Phase: 0.75\n"
          ]
        },
        {
          "data": {
            "text/plain": [
              "Fraction(3, 4)"
            ]
          },
          "execution_count": 14,
          "metadata": {},
          "output_type": "execute_result"
        }
      ],
      "source": [
        "phase = qpe_amod15(a, N) # Phase = s/r\n",
        "Fraction(phase).limit_denominator(15)"
      ]
    },
    {
      "cell_type": "code",
      "execution_count": 15,
      "metadata": {
        "colab": {
          "base_uri": "https://localhost:8080/"
        },
        "id": "b_CAdEotfS6u",
        "outputId": "d4d0cbe8-a52f-4385-b9e2-d08c9469f447"
      },
      "outputs": [
        {
          "name": "stdout",
          "output_type": "stream",
          "text": [
            "3 4\n"
          ]
        }
      ],
      "source": [
        "frac = Fraction(phase).limit_denominator(15)\n",
        "s, r = frac.numerator, frac.denominator\n",
        "print(s, r)"
      ]
    },
    {
      "cell_type": "code",
      "execution_count": 16,
      "metadata": {
        "colab": {
          "base_uri": "https://localhost:8080/"
        },
        "id": "BVW12iFWfe2L",
        "outputId": "80bcf470-e0f6-4571-de4e-abeb21b9b5d1"
      },
      "outputs": [
        {
          "name": "stdout",
          "output_type": "stream",
          "text": [
            "[3, 5]\n"
          ]
        }
      ],
      "source": [
        "guesses = [gcd(a**(r//2)-1, N), gcd(a**(r//2)+1, N)]\n",
        "print(guesses)\n"
      ]
    },
    {
      "cell_type": "markdown",
      "metadata": {
        "id": "roNu16b9tv9p"
      },
      "source": [
        "#### Finding Factors of a = 7, N = 15."
      ]
    },
    {
      "cell_type": "code",
      "execution_count": 17,
      "metadata": {
        "colab": {
          "base_uri": "https://localhost:8080/"
        },
        "id": "izSJ-jNjgm5P",
        "outputId": "f35dd91f-7af2-4e09-b315-3077f37f626d"
      },
      "outputs": [
        {
          "name": "stdout",
          "output_type": "stream",
          "text": [
            "Tryng a = 7 and N = 15:\n",
            "\n",
            "ATTEMPT 1:\n"
          ]
        },
        {
          "name": "stderr",
          "output_type": "stream",
          "text": []
        },
        {
          "name": "stdout",
          "output_type": "stream",
          "text": [
            "Register Reading: 00000000\n",
            "Corresponding Phase: 0.0\n",
            "Result: r = 1\n",
            "\n",
            "ATTEMPT 2:\n"
          ]
        },
        {
          "name": "stderr",
          "output_type": "stream",
          "text": []
        },
        {
          "name": "stdout",
          "output_type": "stream",
          "text": [
            "Register Reading: 00000000\n",
            "Corresponding Phase: 0.0\n",
            "Result: r = 1\n",
            "\n",
            "ATTEMPT 3:\n"
          ]
        },
        {
          "name": "stderr",
          "output_type": "stream",
          "text": []
        },
        {
          "name": "stdout",
          "output_type": "stream",
          "text": [
            "Register Reading: 00000000\n",
            "Corresponding Phase: 0.0\n",
            "Result: r = 1\n",
            "\n",
            "ATTEMPT 4:\n"
          ]
        },
        {
          "name": "stderr",
          "output_type": "stream",
          "text": []
        },
        {
          "name": "stdout",
          "output_type": "stream",
          "text": [
            "Register Reading: 00000000\n",
            "Corresponding Phase: 0.0\n",
            "Result: r = 1\n",
            "\n",
            "ATTEMPT 5:\n"
          ]
        },
        {
          "name": "stderr",
          "output_type": "stream",
          "text": []
        },
        {
          "name": "stdout",
          "output_type": "stream",
          "text": [
            "Register Reading: 01000000\n",
            "Corresponding Phase: 0.25\n",
            "Result: r = 4\n",
            "Guessed Factors: 3 and 5\n",
            "*** Non-trivial factor found: 3 ***\n",
            "*** Non-trivial factor found: 5 ***\n"
          ]
        }
      ],
      "source": [
        "N = 15\n",
        "a = 7\n",
        "FACTOR_FOUND = False\n",
        "ATTEMPT = 0\n",
        "print(f\"Tryng a = {a} and N = {N}:\")\n",
        "while not FACTOR_FOUND:\n",
        "    ATTEMPT += 1\n",
        "    print(f\"\\nATTEMPT {ATTEMPT}:\")\n",
        "    phase = qpe_amod15(a, N) # Phase = s/r\n",
        "    frac = Fraction(phase).limit_denominator(N)\n",
        "    r = frac.denominator\n",
        "    print(f\"Result: r = {r}\")\n",
        "    if phase != 0:\n",
        "        # Guesses for factors are gcd(x^{r/2} ±1 , 15)\n",
        "        guesses = [gcd(a**(r//2)-1, N), gcd(a**(r//2)+1, N)]\n",
        "        print(f\"Guessed Factors: {guesses[0]} and {guesses[1]}\")\n",
        "        for guess in guesses:\n",
        "            if guess not in [1,N] and (N % guess) == 0:\n",
        "                # Guess is a factor!\n",
        "                print(f\"*** Non-trivial factor found: {guess} ***\")\n",
        "                FACTOR_FOUND = True"
      ]
    },
    {
      "cell_type": "code",
      "execution_count": null,
      "metadata": {
        "id": "0CzmUtjHsJRy"
      },
      "outputs": [],
      "source": []
    }
  ],
  "metadata": {
    "colab": {
      "provenance": []
    },
    "kernelspec": {
      "display_name": "Python 3",
      "name": "python3"
    },
    "language_info": {
      "name": "python"
    }
  },
  "nbformat": 4,
  "nbformat_minor": 0
}
